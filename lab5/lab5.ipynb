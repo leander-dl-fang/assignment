{
 "cells": [
  {
   "cell_type": "code",
   "execution_count": 57,
   "metadata": {},
   "outputs": [],
   "source": [
    "import pandas as pd\n",
    "import numpy as np\n",
    "import seaborn as sns\n",
    "from statistics import mean"
   ]
  },
  {
   "cell_type": "markdown",
   "metadata": {},
   "source": [
    "### 1.Visualize and interpret the pattern of this time-series"
   ]
  },
  {
   "cell_type": "code",
   "execution_count": 3,
   "metadata": {},
   "outputs": [
    {
     "data": {
      "text/html": [
       "<div>\n",
       "<style scoped>\n",
       "    .dataframe tbody tr th:only-of-type {\n",
       "        vertical-align: middle;\n",
       "    }\n",
       "\n",
       "    .dataframe tbody tr th {\n",
       "        vertical-align: top;\n",
       "    }\n",
       "\n",
       "    .dataframe thead th {\n",
       "        text-align: right;\n",
       "    }\n",
       "</style>\n",
       "<table border=\"1\" class=\"dataframe\">\n",
       "  <thead>\n",
       "    <tr style=\"text-align: right;\">\n",
       "      <th></th>\n",
       "      <th>sales</th>\n",
       "    </tr>\n",
       "    <tr>\n",
       "      <th>month</th>\n",
       "      <th></th>\n",
       "    </tr>\n",
       "  </thead>\n",
       "  <tbody>\n",
       "    <tr>\n",
       "      <th>1</th>\n",
       "      <td>5384</td>\n",
       "    </tr>\n",
       "    <tr>\n",
       "      <th>2</th>\n",
       "      <td>8081</td>\n",
       "    </tr>\n",
       "    <tr>\n",
       "      <th>3</th>\n",
       "      <td>10282</td>\n",
       "    </tr>\n",
       "    <tr>\n",
       "      <th>4</th>\n",
       "      <td>9156</td>\n",
       "    </tr>\n",
       "    <tr>\n",
       "      <th>5</th>\n",
       "      <td>6118</td>\n",
       "    </tr>\n",
       "    <tr>\n",
       "      <th>6</th>\n",
       "      <td>9139</td>\n",
       "    </tr>\n",
       "    <tr>\n",
       "      <th>7</th>\n",
       "      <td>12460</td>\n",
       "    </tr>\n",
       "    <tr>\n",
       "      <th>8</th>\n",
       "      <td>10717</td>\n",
       "    </tr>\n",
       "    <tr>\n",
       "      <th>9</th>\n",
       "      <td>7825</td>\n",
       "    </tr>\n",
       "    <tr>\n",
       "      <th>10</th>\n",
       "      <td>9693</td>\n",
       "    </tr>\n",
       "    <tr>\n",
       "      <th>11</th>\n",
       "      <td>15177</td>\n",
       "    </tr>\n",
       "    <tr>\n",
       "      <th>12</th>\n",
       "      <td>10990</td>\n",
       "    </tr>\n",
       "    <tr>\n",
       "      <th>13</th>\n",
       "      <td>0</td>\n",
       "    </tr>\n",
       "    <tr>\n",
       "      <th>14</th>\n",
       "      <td>0</td>\n",
       "    </tr>\n",
       "    <tr>\n",
       "      <th>15</th>\n",
       "      <td>0</td>\n",
       "    </tr>\n",
       "    <tr>\n",
       "      <th>16</th>\n",
       "      <td>0</td>\n",
       "    </tr>\n",
       "  </tbody>\n",
       "</table>\n",
       "</div>"
      ],
      "text/plain": [
       "       sales\n",
       "month       \n",
       "1       5384\n",
       "2       8081\n",
       "3      10282\n",
       "4       9156\n",
       "5       6118\n",
       "6       9139\n",
       "7      12460\n",
       "8      10717\n",
       "9       7825\n",
       "10      9693\n",
       "11     15177\n",
       "12     10990\n",
       "13         0\n",
       "14         0\n",
       "15         0\n",
       "16         0"
      ]
     },
     "execution_count": 3,
     "metadata": {},
     "output_type": "execute_result"
    }
   ],
   "source": [
    "sales_pd = pd.read_excel(\"./sales.xls\",encoding=\"utf8\")\n",
    "sales_pd = sales_pd.set_index(\"month\")\n",
    "sales_pd"
   ]
  },
  {
   "cell_type": "code",
   "execution_count": 4,
   "metadata": {},
   "outputs": [
    {
     "data": {
      "text/plain": [
       "<matplotlib.axes._subplots.AxesSubplot at 0x1cdc9fd12b0>"
      ]
     },
     "execution_count": 4,
     "metadata": {},
     "output_type": "execute_result"
    },
    {
     "data": {
      "image/png": "[encoded data removed]",
      "text/plain": [
       "<Figure size 432x288 with 1 Axes>"
      ]
     },
     "metadata": {
      "needs_background": "light"
     },
     "output_type": "display_data"
    }
   ],
   "source": [
    "sns.scatterplot(sales_pd.index,sales_pd['sales'])"
   ]
  },
  {
   "cell_type": "code",
   "execution_count": 55,
   "metadata": {},
   "outputs": [
    {
     "data": {
      "text/plain": [
       "numpy.int64"
      ]
     },
     "execution_count": 55,
     "metadata": {},
     "output_type": "execute_result"
    }
   ],
   "source": [
    "type(sales_pd.loc[10]['sales'])"
   ]
  },
  {
   "cell_type": "markdown",
   "metadata": {},
   "source": [
    "have seasonality "
   ]
  },
  {
   "cell_type": "markdown",
   "metadata": {},
   "source": [
    "### moving averge method "
   ]
  },
  {
   "cell_type": "code",
   "execution_count": 54,
   "metadata": {
    "scrolled": true
   },
   "outputs": [
    {
     "data": {
      "text/plain": [
       "<matplotlib.axes._subplots.AxesSubplot at 0x1cdcc0a94a8>"
      ]
     },
     "execution_count": 54,
     "metadata": {},
     "output_type": "execute_result"
    },
    {
     "data": {
      "image/png": "[encoded data removed]",
      "text/plain": [
       "<Figure size 432x288 with 1 Axes>"
      ]
     },
     "metadata": {
      "needs_background": "light"
     },
     "output_type": "display_data"
    }
   ],
   "source": [
    "#moving average method\n",
    "for index in range(13,17):\n",
    "    sales_pd.loc[index].sales = mean([sales_pd.loc[index-1].sales,sales_pd.loc[index-2].sales,sales_pd.loc[index-3].sales])\n",
    "sns.scatterplot(sales_pd.index,sales_pd['sales'])"
   ]
  },
  {
   "cell_type": "markdown",
   "metadata": {},
   "source": [
    "### exponential smoothing "
   ]
  },
  {
   "cell_type": "code",
   "execution_count": 53,
   "metadata": {},
   "outputs": [
    {
     "data": {
      "text/plain": [
       "<matplotlib.axes._subplots.AxesSubplot at 0x1cdcc0a4b70>"
      ]
     },
     "execution_count": 53,
     "metadata": {},
     "output_type": "execute_result"
    },
    {
     "data": {
      "image/png": "[encoded data removed]",
      "text/plain": [
       "<Figure size 432x288 with 1 Axes>"
      ]
     },
     "metadata": {
      "needs_background": "light"
     },
     "output_type": "display_data"
    }
   ],
   "source": [
    "alpha=0.8\n",
    "for idx in range(13,17):\n",
    "    value = 0\n",
    "    # index is F_{t} t \n",
    "    for pw in range(0,idx-1):\n",
    "        #rint(alpha*(1-alpha)**pw*sales_pd.loc[idx-1-pw].sales)\n",
    "        value = value + alpha*(1-alpha)**pw*sales_pd.loc[idx-1-pw].sales\n",
    "        #rint(value)\n",
    "    sales_pd.loc[idx].sales = value\n",
    "    #rint(value)\n",
    "    #rint(\"##############\")\n",
    "\n",
    "sns.scatterplot(sales_pd.index,sales_pd['sales'])"
   ]
  },
  {
   "cell_type": "markdown",
   "metadata": {},
   "source": [
    "### linear regression"
   ]
  },
  {
   "cell_type": "code",
   "execution_count": 52,
   "metadata": {},
   "outputs": [
    {
     "data": {
      "text/plain": [
       "<matplotlib.axes._subplots.AxesSubplot at 0x1cdcbfe0cf8>"
      ]
     },
     "execution_count": 52,
     "metadata": {},
     "output_type": "execute_result"
    },
    {
     "data": {
      "image/png": "[encoded data removed]",
      "text/plain": [
       "<Figure size 432x288 with 1 Axes>"
      ]
     },
     "metadata": {
      "needs_background": "light"
     },
     "output_type": "display_data"
    }
   ],
   "source": [
    "from sklearn.linear_model import LinearRegression\n",
    "import numpy as np\n",
    "lr = LinearRegression()\n",
    "lr.fit(np.array(sales_pd.index).reshape(-1,1),sales_pd['sales'])\n",
    "#lr.predict([[idx]])\n",
    "for idx in range(13,17):\n",
    "    sales_pd.loc[idx].sales = lr.predict([[idx]])[0]\n",
    "sns.scatterplot(sales_pd.index,sales_pd['sales'])"
   ]
  },
  {
   "cell_type": "markdown",
   "metadata": {},
   "source": [
    "### Predict future demand in month 13,14,15,16 with seasonality"
   ]
  },
  {
   "cell_type": "code",
   "execution_count": 56,
   "metadata": {},
   "outputs": [
    {
     "data": {
      "text/plain": [
       "<matplotlib.axes._subplots.AxesSubplot at 0x1cdcc16b7f0>"
      ]
     },
     "execution_count": 56,
     "metadata": {},
     "output_type": "execute_result"
    },
    {
     "data": {
      "image/png": "[encoded data removed]",
      "text/plain": [
       "<Figure size 432x288 with 1 Axes>"
      ]
     },
     "metadata": {
      "needs_background": "light"
     },
     "output_type": "display_data"
    }
   ],
   "source": [
    "avg = []\n",
    "for x in range(0,3):\n",
    "    avg.append(mean([sales_pd.loc[x*4+1].sales,sales_pd.loc[x*4+2].sales,sales_pd.loc[x*4+3].sales,sales_pd.loc[x*4+4].sales]))\n",
    "avg\n",
    "\n",
    "# array of season index\n",
    "t_index=[]\n",
    "for g in range(0,3):\n",
    "    #season index for a group\n",
    "    s_index= []\n",
    "    for e in range(1,5):\n",
    "        s_index.append(sales_pd.loc[g*4+e].sales/avg[g])\n",
    "    t_index.append(s_index)\n",
    "\n",
    "avg_4 = avg[2]+mean([avg[2]-avg[1],avg[1]-avg[0]])\n",
    "avg_4\n",
    "avg_index =[]\n",
    "\n",
    "for e in range(0,4):\n",
    "    avg_index.append(mean([t_index[0][e],t_index[1][e],t_index[2][e]]))\n",
    "avg_index\n",
    "\n",
    "for e in range(0,4):\n",
    "    sales_pd.loc[12+e].sales = avg_4*avg_index[e]\n",
    "sns.scatterplot(sales_pd.index,sales_pd['sales'])"
   ]
  },
  {
   "cell_type": "markdown",
   "metadata": {},
   "source": [
    "### 1. Basics of Recommendation Algorithm"
   ]
  },
  {
   "cell_type": "code",
   "execution_count": 103,
   "metadata": {},
   "outputs": [
    {
     "data": {
      "text/plain": [
       "0.9874352995830178"
      ]
     },
     "execution_count": 103,
     "metadata": {},
     "output_type": "execute_result"
    }
   ],
   "source": [
    "from sklearn.metrics.pairwise import cosine_similarity\n",
    "from math import factorial\n",
    "ict = [4,3,2,3]\n",
    "med = [1,2,3,1]\n",
    "bus = [np.nan,2,1,np.nan]\n",
    "env = [4,3,np.nan,np.nan]\n",
    "vec_ict_to_bus = ict[1:3]\n",
    "vec_med_to_bus = med[1:3]\n",
    "\n",
    "vec_ict_to_env = ict[0:2]\n",
    "vec_med_to_env = med[0:2]\n",
    "\n",
    "vec_bus = bus[1:3]\n",
    "vec_env = env[0:2]\n",
    "\n",
    "sim_ict_bus = cosine_similarity([vec_ict_to_bus,vec_bus])[0][1]\n",
    "sim_med_bus = cosine_similarity([vec_med_to_bus,vec_bus])[0][1]\n",
    "sim_ict_env = cosine_similarity([vec_ict_to_env,vec_env])[0][1]\n",
    "sim_med_env = cosine_similarity([vec_med_to_env,vec_env])[0][1]\n",
    "\n",
    "bar_ict = mean(ict)\n",
    "bar_med = mean(med)\n",
    "bar_bus = mean([2,1])\n",
    "bar_env = mean([4,3])\n",
    "bus[3] = bar_bus + sum([sim_ict_bus*(ict[3]-bar_ict),sim_med_bus*(med[3]-bar_med)])/sum([sim_ict_bus,sim_med_bus])\n",
    "bus[0] =  bar_bus + sum([sim_ict_bus*(ict[0]-bar_ict),sim_med_bus*(med[0]-bar_med)])/sum([sim_ict_bus,sim_med_bus])\n",
    "#bus\n",
    "env[2] = bar_env + sum([sim_ict_env*(ict[2]-bar_ict),sim_med_env*(med[2]-bar_env)])/sum([sim_ict_env,sim_med_env])\n",
    "env[3] = bar_env + sum([sim_ict_env*(ict[3]-bar_ict),sim_med_env*(med[3]-bar_env)])/sum([sim_ict_env,sim_med_env])\n",
    "env\n",
    "\n",
    "# predict accuray MAD, and rank accuracy\n",
    "predict_acc = mean([abs(env[2]-2),abs(env[3]-4),abs(bus[0]-1),abs(bus[3]-2)])\n",
    "predict_acc\n",
    "\n"
   ]
  },
  {
   "cell_type": "code",
   "execution_count": 102,
   "metadata": {},
   "outputs": [
    {
     "name": "stdout",
     "output_type": "stream",
     "text": [
      "2.8333333333333335\n"
     ]
    }
   ],
   "source": [
    "\n",
    "c = factorial(3)/factorial(2)\n",
    "deno = factorial(4)/factorial(2)/factorial(2)\n",
    "\n",
    "des_pred = [ict[0],med[0],bus[0],env[0]]\n",
    "des_tru = [4,1,1,4]\n",
    "d = 0\n",
    "for e in range(0,4):\n",
    "    #print(bus[0]<=des_pred[e])\n",
    "    #print(des_tru[2] <= des_tru[e])\n",
    "    if (bus[0]<=des_pred[e]) == (des_tru[2] <= des_tru[e]):\n",
    "        continue\n",
    "    else:\n",
    "        d = d+1\n",
    "        #print(d)\n",
    "#print(d)\n",
    "tao = c-d/(deno)\n",
    "print(tao)"
   ]
  }
 ],
 "metadata": {
  "kernelspec": {
   "display_name": "Python 3",
   "language": "python",
   "name": "python3"
  },
  "language_info": {
   "codemirror_mode": {
    "name": "ipython",
    "version": 3
   },
   "file_extension": ".py",
   "mimetype": "text/x-python",
   "name": "python",
   "nbconvert_exporter": "python",
   "pygments_lexer": "ipython3",
   "version": "3.7.3"
  }
 },
 "nbformat": 4,
 "nbformat_minor": 2
}
